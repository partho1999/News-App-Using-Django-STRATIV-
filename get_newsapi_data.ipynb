{
 "cells": [
  {
   "cell_type": "code",
   "execution_count": 15,
   "metadata": {},
   "outputs": [
    {
     "name": "stdout",
     "output_type": "stream",
     "text": [
      "{'status': 'ok', 'source': 'bbc-news', 'sortBy': 'top', 'articles': [{'author': 'BBC News', 'title': 'Lavrov: Russia is not squeaky clean and not ashamed', 'description': \"Russia's foreign minister tells the BBC that the West is pressing UN officials to amplify fake news.\", 'url': 'http://www.bbc.co.uk/news/world-europe-61825525', 'urlToImage': 'https://ichef.bbci.co.uk/news/1024/branded_news/8401/production/_125439733_lavrov3.jpg', 'publishedAt': None}, {'author': 'BBC News', 'title': 'Republican Senate gun negotiator walks out of talks', 'description': '\"We\\'re about run out of our rope here,\" a frustrated Senator John Cornyn said as he left Washington.', 'url': 'http://www.bbc.co.uk/news/world-us-canada-61835918', 'urlToImage': 'https://ichef.bbci.co.uk/news/1024/branded_news/1277D/production/_125454657_gettyimages-1229530298.jpg', 'publishedAt': None}, {'author': 'BBC News', 'title': \"In rare interview Biden says Americans 'really, really down'\", 'description': 'Mr Biden says the \"need for mental health in America has skyrocketed\" amid economic volatility.', 'url': 'http://www.bbc.co.uk/news/world-us-canada-61835919', 'urlToImage': 'https://ichef.bbci.co.uk/news/1024/branded_news/8E5D/production/_125454463_gettyimages-1403143393.jpg', 'publishedAt': None}, {'author': 'BBC News', 'title': 'Three American fighters reported missing in Ukraine', 'description': 'If confirmed, these would be the first US fighters captured in Ukraine since the war began in February.', 'url': 'http://www.bbc.co.uk/news/world-us-canada-61835574', 'urlToImage': 'https://ichef.bbci.co.uk/news/1024/branded_news/17B79/production/_125454179_compositec2way.jpg', 'publishedAt': None}, {'author': 'BBC News', 'title': \"Powerful 'smoke twister' spotted in Arizona\", 'description': 'The twister formed from smoke from the Pipeline Fire in Flagstaff, Arizona.', 'url': 'http://www.bbc.co.uk/news/world-us-canada-61819613', 'urlToImage': 'https://ichef.bbci.co.uk/news/1024/branded_news/14567/production/_125430338_p0cfd72k.jpg', 'publishedAt': None}, {'author': 'BBC Sport', 'title': 'Warriors clinch fourth NBA title in eight years', 'description': 'The Golden State Warriors beat the Boston Celtics to win game six of the NBA Finals and claim their fourth NBA title in eight years.', 'url': 'http://www.bbc.co.uk/sport/basketball/61836898', 'urlToImage': 'https://ichef.bbci.co.uk/live-experience/cps/624/cpsprodpb/1265B/production/_125455357_a3d60b520acfa379d57fc3c171cd5a8ce7df8901.jpg', 'publishedAt': None}, {'author': 'BBC News', 'title': 'Cosmetics maker Revlon files for bankruptcy in US', 'description': 'The 90-year-old firm says supply chain disruptions have driven up the cost of raw materials.', 'url': 'http://www.bbc.co.uk/news/business-61835796', 'urlToImage': 'https://ichef.bbci.co.uk/news/1024/branded_news/CC79/production/_125454325_gettyimages-1403319931.jpg', 'publishedAt': None}, {'author': 'BBC News', 'title': 'Global stock markets fall as economy fears grow', 'description': 'The Dow Jones share index closed below 30,000 at its lowest level in more than a year.', 'url': 'http://www.bbc.co.uk/news/business-61830925', 'urlToImage': 'https://ichef.bbci.co.uk/news/1024/branded_news/113EB/production/_125453607_whatsubject.jpg', 'publishedAt': None}, {'author': 'BBC News', 'title': \"January 6 hearing: Trump pressed Pence in 'illegal' bid to quash vote\", 'description': 'The claim that Mr Pence could overturn the election directly contributed to violence, lawmakers say.', 'url': 'http://www.bbc.co.uk/news/world-us-canada-61834957', 'urlToImage': 'https://ichef.bbci.co.uk/news/1024/branded_news/BD33/production/_125453484_gettyimages-1190282558.jpg', 'publishedAt': None}, {'author': 'BBC News', 'title': 'Nepal to move Everest base camp from melting glacier', 'description': 'Nepal is preparing to move its Everest base camp as the glacier it stands on becomes less stable.', 'url': 'http://www.bbc.co.uk/news/science-environment-61828753', 'urlToImage': 'https://ichef.bbci.co.uk/news/1024/branded_news/8165/production/_125452133_getty_base_climbers.jpg', 'publishedAt': None}]}\n"
     ]
    }
   ],
   "source": [
    "# importing requests package\n",
    "import requests    \n",
    " \n",
    "def NewsFromSource(source):\n",
    "     \n",
    "    # BBC news api\n",
    "    # following query parameters are used\n",
    "    # source, sortBy and apiKey\n",
    "    query_params = {\n",
    "      \"source\": source,\n",
    "      \"sortBy\": \"top\",\n",
    "      \"apiKey\": \"f796cb1d025a48d5a894d5be063b1607\"\n",
    "    }\n",
    "    main_url = \" https://newsapi.org/v1/articles\"\n",
    " \n",
    "    # fetching data in json format\n",
    "    res = requests.get(main_url, params=query_params)\n",
    "    open_bbc_page = res.json()\n",
    "    print(open_bbc_page)\n",
    "    return open_bbc_page\n",
    "#     # getting all articles in a string article\n",
    "#     article = open_bbc_page[\"articles\"]\n",
    " \n",
    "#     # empty list which will\n",
    "#     # contain all trending news\n",
    "#     results = []\n",
    "     \n",
    "#     for ar in article:\n",
    "#         results.append(ar[\"title\"])\n",
    "         \n",
    "#     for i in range(len(results)):\n",
    "         \n",
    "#         # printing all trending news\n",
    "#         print(i + 1, results[i])\n",
    " \n",
    " # Driver Code\n",
    "if __name__ == '__main__':\n",
    "     \n",
    "    # function call\n",
    "    NewsFromSource(\"bbc-news\")"
   ]
  },
  {
   "cell_type": "code",
   "execution_count": 8,
   "metadata": {},
   "outputs": [
    {
     "ename": "SyntaxError",
     "evalue": "'continue' not properly in loop (2358375066.py, line 58)",
     "output_type": "error",
     "traceback": [
      "\u001b[1;36m  File \u001b[1;32m\"C:\\Users\\HP\\AppData\\Local\\Temp\\ipykernel_4308\\2358375066.py\"\u001b[1;36m, line \u001b[1;32m58\u001b[0m\n\u001b[1;31mSyntaxError\u001b[0m\u001b[1;31m:\u001b[0m 'continue' not properly in loop\n"
     ]
    }
   ],
   "source": [
    "from newsapi import NewsApiClient\n",
    "import pycountry\n",
    "\n",
    "# you have to get your api key from newapi.com and then paste it below\n",
    "newsapi = NewsApiClient(api_key='f796cb1d025a48d5a894d5be063b1607')\n",
    "\n",
    "# now we will take name of country from user as input\n",
    "input_country = input(\"Country: \")\n",
    "input_countries = [f'{input_country.strip()}']\n",
    "countries = {}\n",
    "\n",
    "# iterate over all the countries in\n",
    "# the world using pycountry module\n",
    "for country in pycountry.countries:\n",
    "\n",
    "    # and store the unique code of each country\n",
    "    # in the dictionary along with it's full name\n",
    "    countries[country.name] = country.alpha_2\n",
    "\n",
    "# now we will check that the entered country name is\n",
    "# valid or invalid using the unique code\n",
    "codes = [countries.get(country.title(), 'Unknown code')\n",
    "        for country in input_countries]\n",
    "\n",
    "# now we have to display all the categories from which user will\n",
    "# decide and enter the name of that category\n",
    "option = input(\"Which category are you interested in?\\n1.Business\\n2.Entertainment\\n3.General\\n4.Health\\n5.Science\\n6.Technology\\n\\nEnter here: \")\n",
    "\n",
    "# now we will fetch the new according to the choice of the user\n",
    "top_headlines = newsapi.get_top_headlines(\n",
    "\n",
    "    # getting top headlines from all the news channels\n",
    "    category=f'{option.lower()}', language='en', country=f'{codes[0].lower()}'\n",
    ")\n",
    "\n",
    "# fetch the top news under that category\n",
    "Headlines = top_headlines['articles']\n",
    "print(Headlines)\n",
    "\n",
    "# # now we will display the that news with a good readability for user\n",
    "if Headlines:\n",
    "    for articles in Headlines:\n",
    "        b = articles['title'][::-1].index(\"-\")\n",
    "        if \"news\" in (articles['title'][-b+1:]).lower():\n",
    "            print(\n",
    "                f\"{articles['title'][-b+1:]}: {articles['title'][:-b-2]}.\")\n",
    "        else:\n",
    "            print(\n",
    "                f\"{articles['title'][-b+1:]} News: {articles['title'][:-b-2]}.\")\n",
    "else:\n",
    "    print(\n",
    "        f\"Sorry no articles found for {input_country}, Something Wrong!!!\")\n",
    "# option = input(\"Do you want to search again[Yes/No]?\")\n",
    "# if option.lower() == 'yes':\n",
    "#         continue\n",
    "# else: \n",
    "#     exit()"
   ]
  }
 ],
 "metadata": {
  "kernelspec": {
   "display_name": "Python 3.7.6 64-bit (system)",
   "language": "python",
   "name": "python3"
  },
  "language_info": {
   "codemirror_mode": {
    "name": "ipython",
    "version": 3
   },
   "file_extension": ".py",
   "mimetype": "text/x-python",
   "name": "python",
   "nbconvert_exporter": "python",
   "pygments_lexer": "ipython3",
   "version": "3.7.6"
  },
  "orig_nbformat": 4,
  "vscode": {
   "interpreter": {
    "hash": "b211ee8e9a2c45df85cfd9fd307102f17c9443d2b50a29339ccc32c92e928c68"
   }
  }
 },
 "nbformat": 4,
 "nbformat_minor": 2
}
